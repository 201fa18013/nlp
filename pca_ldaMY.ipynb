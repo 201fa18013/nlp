{
  "nbformat": 4,
  "nbformat_minor": 0,
  "metadata": {
    "colab": {
      "provenance": []
    },
    "kernelspec": {
      "name": "python3",
      "display_name": "Python 3"
    },
    "language_info": {
      "name": "python"
    },
    "accelerator": "GPU",
    "gpuClass": "standard"
  },
  "cells": [
    {
      "cell_type": "code",
      "source": [
        "from keras.datasets import imdb\n",
        "from keras.models import Sequential\n",
        "from keras.layers import Dense, Dropout, Activation, Conv1D, GlobalMaxPooling1D\n",
        "#from keras.layers.embeddings import Embedding\n",
        "from keras.layers import Embedding\n",
        "from keras.preprocessing import sequence\n",
        "from sklearn.metrics import classification_report\n",
        "from keras.utils import pad_sequences\n",
        "from sklearn.metrics import accuracy_score, precision_score, recall_score, f1_score"
      ],
      "metadata": {
        "id": "MrpkR0vDwR5J"
      },
      "execution_count": null,
      "outputs": []
    },
    {
      "cell_type": "code",
      "source": [
        "#CNN Classifier\n",
        "# Load the IMDb dataset\n",
        "max_features = 5000\n",
        "maxlen = 400\n",
        "batch_size = 32\n",
        "embedding_dims = 64\n",
        "filters = 64\n",
        "kernel_size = 3\n",
        "hidden_dims = 100\n",
        "epochs = 2\n",
        "\n",
        "(x_train, y_train), (x_test, y_test) = imdb.load_data(num_words=max_features)\n",
        "\n",
        "# Pad sequences to fixed length\n",
        "xpad_sequences=(x_train, maxlen=maxlen)\n",
        "x_test = pad_sequences(x_test, maxlen=maxlen)_train = \n",
        "\n",
        "# Build the model\n",
        "model = Sequential()\n",
        "model.add(Embedding(max_features, embedding_dims, input_length=maxlen))\n",
        "model.add(Dropout(0.2))\n",
        "model.add(Conv1D(filters, kernel_size, padding='valid', activation='relu', strides=1))\n",
        "model.add(GlobalMaxPooling1D())\n",
        "model.add(Dense(hidden_dims))\n",
        "model.add(Dropout(0.2))\n",
        "model.add(Activation('relu'))\n",
        "model.add(Dense(1))\n",
        "model.add(Activation('sigmoid'))\n",
        "model.compile(loss='binary_crossentropy', optimizer='adam', metrics=['accuracy'])\n",
        "\n",
        "# Train the model\n",
        "model.fit(x_train, y_train, batch_size=batch_size, epochs=epochs, validation_data=(x_test, y_test))\n",
        "\n",
        "# Evaluate the model\n",
        "y_pred = model.predict(x_test)\n",
        "y_pred = y_pred.argmax(axis=1)\n",
        "\n"
      ],
      "metadata": {
        "id": "ZyhfKyLr2Nzm",
        "colab": {
          "base_uri": "https://localhost:8080/"
        },
        "outputId": "f9211a11-7f87-4fc0-879b-116503a1cbbb"
      },
      "execution_count": null,
      "outputs": [
        {
          "output_type": "stream",
          "name": "stdout",
          "text": [
            "Epoch 1/2\n",
            "782/782 [==============================] - 47s 59ms/step - loss: 0.4174 - accuracy: 0.7950 - val_loss: 0.3017 - val_accuracy: 0.8700\n",
            "Epoch 2/2\n",
            "782/782 [==============================] - 16s 20ms/step - loss: 0.2365 - accuracy: 0.9047 - val_loss: 0.2686 - val_accuracy: 0.8892\n",
            "782/782 [==============================] - 2s 2ms/step\n"
          ]
        }
      ]
    },
    {
      "cell_type": "code",
      "source": [
        "from sklearn.preprocessing import StandardScaler\n",
        "sc = StandardScaler()\n",
        "x_train = sc.fit_transform(x_train)\n",
        "x_test = sc.transform(x_test)"
      ],
      "metadata": {
        "id": "7pmz81yOzVBI"
      },
      "execution_count": null,
      "outputs": []
    },
    {
      "cell_type": "code",
      "source": [
        "from sklearn.naive_bayes import GaussianNB\n",
        "gnb = GaussianNB()\n",
        "gnb.fit(x_train,y_train)\n",
        "y_pred = gnb.predict(x_test)"
      ],
      "metadata": {
        "id": "UVxonugwzWVx"
      },
      "execution_count": null,
      "outputs": []
    },
    {
      "cell_type": "code",
      "source": [
        "from sklearn.metrics import accuracy_score\n",
        "from sklearn.metrics import precision_score\n",
        "from sklearn.metrics import recall_score\n",
        "from sklearn.metrics import f1_score\n",
        "print('Accuracy : {}'.format(accuracy_score(y_test,y_pred)))\n",
        "print('precision : {}'.format(precision_score(y_test,y_pred)))\n",
        "print('recall : {}'.format(recall_score(y_test,y_pred)))\n",
        "print('f1 : {}'.format(f1_score(y_test,y_pred)))"
      ],
      "metadata": {
        "colab": {
          "base_uri": "https://localhost:8080/"
        },
        "id": "YFkVAyLDzciA",
        "outputId": "16df9e58-35fd-4331-c875-cb46785821c8"
      },
      "execution_count": null,
      "outputs": [
        {
          "output_type": "stream",
          "name": "stdout",
          "text": [
            "Accuracy : 0.5038\n",
            "precision : 0.5074650322175075\n",
            "recall : 0.25832\n",
            "f1 : 0.3423633568361342\n"
          ]
        }
      ]
    },
    {
      "cell_type": "code",
      "source": [
        "from sklearn.decomposition import PCA\n",
        "pca = PCA(n_components = 2)\n",
        "x_train = pca.fit_transform(x_train)\n",
        "x_test = pca.transform(x_test)"
      ],
      "metadata": {
        "id": "pgLPXVNqyo7a"
      },
      "execution_count": null,
      "outputs": []
    },
    {
      "cell_type": "code",
      "source": [
        "gnbpca = GaussianNB()\n",
        "gnbpca.fit(x_train,y_train)\n",
        "y_pred = gnbpca.predict(x_test)"
      ],
      "metadata": {
        "id": "aYS2rcyZzgxh"
      },
      "execution_count": null,
      "outputs": []
    },
    {
      "cell_type": "code",
      "source": [
        "from sklearn.metrics import accuracy_score\n",
        "from sklearn.metrics import precision_score\n",
        "from sklearn.metrics import recall_score\n",
        "from sklearn.metrics import f1_score\n",
        "print('Accuracy : {}'.format(accuracy_score(y_test,y_pred)))\n",
        "print('precision : {}'.format(precision_score(y_test,y_pred)))\n",
        "print('recall : {}'.format(recall_score(y_test,y_pred)))\n",
        "print('f1 : {}'.format(f1_score(y_test,y_pred)))"
      ],
      "metadata": {
        "colab": {
          "base_uri": "https://localhost:8080/"
        },
        "id": "xYvwK_tRzrzy",
        "outputId": "00ced874-ecd5-426f-b1d8-25fab43179e5"
      },
      "execution_count": null,
      "outputs": [
        {
          "output_type": "stream",
          "name": "stdout",
          "text": [
            "Accuracy : 0.50536\n",
            "precision : 0.509715777262181\n",
            "recall : 0.2812\n",
            "f1 : 0.36244586512683025\n"
          ]
        }
      ]
    },
    {
      "cell_type": "code",
      "source": [
        "from sklearn.discriminant_analysis import LinearDiscriminantAnalysis\n",
        "l = LinearDiscriminantAnalysis()\n",
        "x_train = l.fit_transform(x_train,y_train)\n",
        "x_test = l.transform(x_test)"
      ],
      "metadata": {
        "id": "Wb5FvSKGzwmZ"
      },
      "execution_count": null,
      "outputs": []
    },
    {
      "cell_type": "code",
      "source": [
        "gnblda = GaussianNB()\n",
        "gnblda.fit(x_train,y_train)\n",
        "y_pred = gnblda.predict(x_test)"
      ],
      "metadata": {
        "id": "w0lQdmrBzzP5"
      },
      "execution_count": null,
      "outputs": []
    },
    {
      "cell_type": "code",
      "source": [
        "from sklearn.metrics import accuracy_score\n",
        "from sklearn.metrics import precision_score\n",
        "from sklearn.metrics import recall_score\n",
        "from sklearn.metrics import f1_score\n",
        "print('Accuracy : {}'.format(accuracy_score(y_test,y_pred)))\n",
        "print('precision : {}'.format(precision_score(y_test,y_pred)))\n",
        "print('recall : {}'.format(recall_score(y_test,y_pred)))\n",
        "print('f1 : {}'.format(f1_score(y_test,y_pred)))"
      ],
      "metadata": {
        "colab": {
          "base_uri": "https://localhost:8080/"
        },
        "id": "Lx7QyptCz2Zo",
        "outputId": "6b8e4a15-e72e-424a-8574-c41b40a163c0"
      },
      "execution_count": null,
      "outputs": [
        {
          "output_type": "stream",
          "name": "stdout",
          "text": [
            "Accuracy : 0.50396\n",
            "precision : 0.5095986038394416\n",
            "recall : 0.21024\n",
            "f1 : 0.29767231126465427\n"
          ]
        }
      ]
    },
    {
      "cell_type": "code",
      "source": [
        "def tokenize(text):\n",
        "    return [word for word in word_tokenize(text.lower()) if word not in stopwords.words('english')]"
      ],
      "metadata": {
        "id": "fC78bdIA2_qS"
      },
      "execution_count": null,
      "outputs": []
    },
    {
      "cell_type": "code",
      "source": [
        "from sklearn.feature_extraction.text import CountVectorizer\n",
        "from sklearn.feature_extraction.text import TfidfTransformer\n",
        "\n",
        "count_vectorizer = CountVectorizer(tokenizer=tokenize)\n",
        "tfidf_transformer = TfidfTransformer()\n",
        "\n",
        "\n"
      ],
      "metadata": {
        "id": "xZY-nM763Q8S"
      },
      "execution_count": null,
      "outputs": []
    },
    {
      "cell_type": "code",
      "source": [
        "print(x_train[0:15])"
      ],
      "metadata": {
        "colab": {
          "base_uri": "https://localhost:8080/"
        },
        "id": "IWqp2D4w5wV9",
        "outputId": "a5cc4059-aa03-4638-8688-49b63d001cdf"
      },
      "execution_count": null,
      "outputs": [
        {
          "output_type": "stream",
          "name": "stdout",
          "text": [
            "[[-0.27901864]\n",
            " [-0.4789684 ]\n",
            " [-0.68769415]\n",
            " [ 2.7055787 ]\n",
            " [-0.65263976]\n",
            " [-0.76237606]\n",
            " [-0.69034068]\n",
            " [ 1.36001978]\n",
            " [-0.25972331]\n",
            " [-0.71213224]\n",
            " [ 1.74151009]\n",
            " [-0.74656072]\n",
            " [-0.70818324]\n",
            " [-0.09133816]\n",
            " [-0.69524189]]\n"
          ]
        }
      ]
    },
    {
      "cell_type": "code",
      "source": [
        "print(vectorized_train_data[0:15])"
      ],
      "metadata": {
        "colab": {
          "base_uri": "https://localhost:8080/"
        },
        "id": "gEqp-htJ6g5C",
        "outputId": "597eee21-f40b-4bef-ef10-1d9884f43b95"
      },
      "execution_count": null,
      "outputs": [
        {
          "output_type": "stream",
          "name": "stdout",
          "text": [
            "  (0, 0)\t-1.0\n",
            "  (1, 0)\t-1.0\n",
            "  (2, 0)\t-1.0\n",
            "  (3, 0)\t1.0\n",
            "  (4, 0)\t-1.0\n",
            "  (5, 0)\t-1.0\n",
            "  (6, 0)\t-1.0\n",
            "  (7, 0)\t1.0\n",
            "  (8, 0)\t-1.0\n",
            "  (9, 0)\t-1.0\n",
            "  (10, 0)\t1.0\n",
            "  (11, 0)\t-1.0\n",
            "  (12, 0)\t-1.0\n",
            "  (13, 0)\t1.0\n",
            "  (14, 0)\t-1.0\n"
          ]
        }
      ]
    },
    {
      "cell_type": "code",
      "source": [
        "print(vectorized_train_data.shape,y_train.shape)"
      ],
      "metadata": {
        "colab": {
          "base_uri": "https://localhost:8080/"
        },
        "id": "hT-IFExh6krp",
        "outputId": "8d9ef5d3-7f5e-4623-8ea0-0698808feb79"
      },
      "execution_count": null,
      "outputs": [
        {
          "output_type": "stream",
          "name": "stdout",
          "text": [
            "(25000, 1) (25000,)\n"
          ]
        }
      ]
    }
  ]
}