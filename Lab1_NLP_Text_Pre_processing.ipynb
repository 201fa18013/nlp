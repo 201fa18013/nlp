{
  "nbformat": 4,
  "nbformat_minor": 0,
  "metadata": {
    "colab": {
      "provenance": []
    },
    "kernelspec": {
      "name": "python3",
      "display_name": "Python 3"
    },
    "language_info": {
      "name": "python"
    }
  },
  "cells": [
    {
      "cell_type": "markdown",
      "source": [
        "Exercise:1\n",
        "\n",
        "Perform Basic text pre-processing using the following approaches:\n",
        "* Stop word Elimination\n",
        "* Removal of Special Characters\n",
        "* Lemmatization\n",
        "* Stemming"
      ],
      "metadata": {
        "id": "VyCj5kytLM5d"
      }
    },
    {
      "cell_type": "markdown",
      "source": [
        "In this lab we will cover the following:\n",
        "*  Importing Libraries\n",
        "*  Natural Language Processing libraries\n",
        "*  Text Preprocessing\n",
        "  *  Lower casing\n",
        "  *  Punctuation removal\n",
        "  *  Identifying and Remove Stop Words\n",
        "  *  Tokenize Text in Words\n",
        "  *  NLTK Word Stemming\n",
        "  *  Lemmatizing Words Using WordNet\n",
        "  *  Stemming and Lemmatization Difference\n",
        "  *  Plotting Frequencies of Words\n",
        "  *  Removing frequent unimportant words\n",
        "\n",
        "\n",
        "Dataset: imdb"
      ],
      "metadata": {
        "id": "agpCSsj_K5XT"
      }
    },
    {
      "cell_type": "markdown",
      "source": [
        "# **Natural Language Processing (NLP)**\n",
        "\n",
        "NLP is the branch of Artificial Intelligence that allows machines to interpret human language.  \n",
        " \n",
        "However, the same cannot be used directly by the machine, and we need to pre-process the same first.\n",
        "\n",
        "\n",
        "\n",
        "\n"
      ],
      "metadata": {
        "id": "XiRHVAaRBr4f"
      }
    },
    {
      "cell_type": "markdown",
      "source": [
        "#**1)Text pre-processing** \n",
        "\n",
        "is the process of preparing text data so that machines can use the same to perform tasks like analysis, predictions, etc. There are many different steps in text pre-processing but in this exercise, we will get familiar with stop words, why do we remove them, and the different libraries that can be used to remove them."
      ],
      "metadata": {
        "id": "wuWva9IUXCq8"
      }
    },
    {
      "cell_type": "code",
      "execution_count": null,
      "metadata": {
        "id": "IaZng-kCBWwc"
      },
      "outputs": [],
      "source": [
        "import warnings\n",
        "warnings.filterwarnings(\"ignore\")\n",
        "\n",
        "import pandas as pd\n",
        "import string\n",
        "\n",
        "#nltk\n",
        "import nltk\n",
        "from nltk.corpus import stopwords\n",
        "from nltk.tokenize import word_tokenize, sent_tokenize\n",
        "from nltk.stem import PorterStemmer, WordNetLemmatizer\n",
        "from nltk import tokenize\n",
        "from nltk.corpus import subjectivity\n",
        "from nltk.sentiment import SentimentAnalyzer, SentimentIntensityAnalyzer\n",
        "from nltk.sentiment.util import *\n",
        "\n",
        "\n",
        "from collections import Counter\n",
        "%matplotlib inline\n",
        "import matplotlib.pyplot as plt\n",
        "import seaborn as sns\n",
        "from pprint import pprint\n"
      ]
    },
    {
      "cell_type": "code",
      "source": [
        "#downloading IMDB movie review dataset\n",
        "nltk.download(\"movie_reviews\")  "
      ],
      "metadata": {
        "colab": {
          "base_uri": "https://localhost:8080/"
        },
        "id": "3sJjT5PCK-A7",
        "outputId": "ea23bad8-a17a-4812-b7fc-b0f1d8eab916"
      },
      "execution_count": null,
      "outputs": [
        {
          "output_type": "stream",
          "name": "stderr",
          "text": [
            "[nltk_data] Downloading package movie_reviews to /root/nltk_data...\n",
            "[nltk_data]   Unzipping corpora/movie_reviews.zip.\n"
          ]
        },
        {
          "output_type": "execute_result",
          "data": {
            "text/plain": [
              "True"
            ]
          },
          "metadata": {},
          "execution_count": 2
        }
      ]
    },
    {
      "cell_type": "code",
      "source": [
        "# importing the dataset\n",
        "from nltk.corpus import movie_reviews"
      ],
      "metadata": {
        "id": "8NF0I0enLBgc"
      },
      "execution_count": null,
      "outputs": []
    },
    {
      "cell_type": "code",
      "source": [
        "type(movie_reviews)"
      ],
      "metadata": {
        "colab": {
          "base_uri": "https://localhost:8080/"
        },
        "id": "9A5ddqeLH_Vs",
        "outputId": "ab8989af-d4f3-493d-ce1b-0b3ed59b791a"
      },
      "execution_count": null,
      "outputs": [
        {
          "output_type": "execute_result",
          "data": {
            "text/plain": [
              "nltk.corpus.reader.plaintext.CategorizedPlaintextCorpusReader"
            ]
          },
          "metadata": {},
          "execution_count": 63
        }
      ]
    },
    {
      "cell_type": "code",
      "source": [
        "#Check the number of review files in the dataset\n",
        "len(movie_reviews.fileids())"
      ],
      "metadata": {
        "colab": {
          "base_uri": "https://localhost:8080/"
        },
        "id": "MG3yxOzOLFiO",
        "outputId": "40c9f21c-19d0-48f2-876c-f8c7e475d49a"
      },
      "execution_count": null,
      "outputs": [
        {
          "output_type": "execute_result",
          "data": {
            "text/plain": [
              "2000"
            ]
          },
          "metadata": {},
          "execution_count": 4
        }
      ]
    },
    {
      "cell_type": "code",
      "source": [
        "#Visualize the names of the first five files\n",
        "movie_reviews.fileids()[:5]"
      ],
      "metadata": {
        "colab": {
          "base_uri": "https://localhost:8080/"
        },
        "id": "TmVOn7mqLKTl",
        "outputId": "7186d7c3-d308-46c1-afdc-cc2b0eb5aa29"
      },
      "execution_count": null,
      "outputs": [
        {
          "output_type": "execute_result",
          "data": {
            "text/plain": [
              "['neg/cv000_29416.txt',\n",
              " 'neg/cv001_19502.txt',\n",
              " 'neg/cv002_17424.txt',\n",
              " 'neg/cv003_12683.txt',\n",
              " 'neg/cv004_12641.txt']"
            ]
          },
          "metadata": {},
          "execution_count": 65
        }
      ]
    },
    {
      "cell_type": "code",
      "source": [
        "#Visualize the names of the last five files\n",
        "movie_reviews.fileids()[-5:]"
      ],
      "metadata": {
        "colab": {
          "base_uri": "https://localhost:8080/"
        },
        "id": "57_DXoUjLQob",
        "outputId": "8f944aef-0b47-4a5b-f15b-2fe9d64bbb3c"
      },
      "execution_count": null,
      "outputs": [
        {
          "output_type": "execute_result",
          "data": {
            "text/plain": [
              "['pos/cv995_21821.txt',\n",
              " 'pos/cv996_11592.txt',\n",
              " 'pos/cv997_5046.txt',\n",
              " 'pos/cv998_14111.txt',\n",
              " 'pos/cv999_13106.txt']"
            ]
          },
          "metadata": {},
          "execution_count": 6
        }
      ]
    },
    {
      "cell_type": "code",
      "source": [
        "#Loading negative and positive reviews into Separate files\n",
        "negative_fileids = movie_reviews.fileids('neg')\n",
        "positive_fileids = movie_reviews.fileids('pos')"
      ],
      "metadata": {
        "id": "byyOvjbkLTcq"
      },
      "execution_count": null,
      "outputs": []
    },
    {
      "cell_type": "code",
      "source": [
        "len(negative_fileids), len(positive_fileids)"
      ],
      "metadata": {
        "colab": {
          "base_uri": "https://localhost:8080/"
        },
        "id": "F7kABiqALZvb",
        "outputId": "0a721b91-b136-4963-d833-1a0e744ddf25"
      },
      "execution_count": null,
      "outputs": [
        {
          "output_type": "execute_result",
          "data": {
            "text/plain": [
              "(1000, 1000)"
            ]
          },
          "metadata": {},
          "execution_count": 8
        }
      ]
    },
    {
      "cell_type": "code",
      "source": [
        "#Randomly checking one review\n",
        "print(movie_reviews.raw(fileids=positive_fileids[20]))"
      ],
      "metadata": {
        "colab": {
          "base_uri": "https://localhost:8080/"
        },
        "id": "UAJIQlXPLb6P",
        "outputId": "d875184d-81e1-446d-a730-ecc5b6e35cb7"
      },
      "execution_count": null,
      "outputs": [
        {
          "output_type": "stream",
          "name": "stdout",
          "text": [
            "by phil curtolo mel gibson ( braveheart ) gave a gripping performance as the father of a young kidnapped boy in ron howard's ransom . \n",
            "gibson plays tom mullen , a wealthy business tycoon whose past actions are coming back to haunt him as a deranged psychopath , played by gary sinise ( forrest gump ) , and his band of low-life thugs kidnap his only son for $2 million . \n",
            "tom and his wife , kate , played by rene russo ( tin cup ) were instructed not to inform the police , but they contacted the fbi . \n",
            "minutes later , an elite team of agents led by delroy lindo ( broken arrow ) are in tom's house and wiring every phone . \n",
            "the plot sounds average , just like most other kidnap movies that you've already seen , and it was nothing more than that . \n",
            "that is until about half-way through the movie . \n",
            "suddenly , tom goes to the fox 5 news room and makes a live broadcast saying , \" this is your ransom . \n",
            "but this is as close as you will ever get to it . \n",
            "instead , i am offering this money as a reward on your head , dead or alive . \" \n",
            "at this point , the plot thickened , and the unusually slow start of the film turned into a suspense-filled action film with great stunts . \n",
            "the last half of the film is very well done . \n",
            "another thing that carries this film are the superb performances by gibson and sinise , as they collide in a game of wits over their cellular phones for most of the movie . \n",
            "owen gleiberman of entertainment weekly commented on the subject : \" it makes you wonder what kidnappers did before cell phones . \" \n",
            "before this movie , sinise played mostly \" good guys , \" first in of mice & men , then in forrest gump , and most recently , in apollo 13 . \n",
            "but he was surprisingly devilish and cold in his portrayal of a cop-gone-bad . \n",
            "gibson , of course , was just being gibson , in an oscar-worthy performance . \n",
            "although most of the scenes were quite predictable , ransom is a very entertaining and suspenseful film . \n",
            " , \n",
            "\n"
          ]
        }
      ]
    },
    {
      "cell_type": "code",
      "source": [
        "negative_fileids[2]"
      ],
      "metadata": {
        "colab": {
          "base_uri": "https://localhost:8080/",
          "height": 35
        },
        "id": "Zj4vbaoILfZf",
        "outputId": "2e714228-fbd4-4e06-9c7a-385148744060"
      },
      "execution_count": null,
      "outputs": [
        {
          "output_type": "execute_result",
          "data": {
            "text/plain": [
              "'neg/cv002_17424.txt'"
            ],
            "application/vnd.google.colaboratory.intrinsic+json": {
              "type": "string"
            }
          },
          "metadata": {},
          "execution_count": 10
        }
      ]
    },
    {
      "cell_type": "code",
      "source": [
        "#Converting negative reviews to a data frame\n",
        "negative_features = pd.DataFrame(\n",
        "    {'review':movie_reviews.raw(fileids=[f]),'label': 'neg'} for f in negative_fileids\n",
        ")"
      ],
      "metadata": {
        "id": "uL_Hff7PLrh-"
      },
      "execution_count": null,
      "outputs": []
    },
    {
      "cell_type": "code",
      "source": [
        "#Converting positive reviews to a data frame\n",
        "positive_features = pd.DataFrame(\n",
        "    {'review':movie_reviews.raw(fileids=[f]),'label': 'pos'} for f in positive_fileids\n",
        ")"
      ],
      "metadata": {
        "id": "GLnqSt1kLuDn"
      },
      "execution_count": null,
      "outputs": []
    },
    {
      "cell_type": "code",
      "source": [
        "#Visualize few sample reviews of positive data frame\n",
        "positive_features.head(20)"
      ],
      "metadata": {
        "colab": {
          "base_uri": "https://localhost:8080/",
          "height": 677
        },
        "id": "VHIO_SbvLxCT",
        "outputId": "48fcde55-f54d-4d19-baba-9c53a1e27640"
      },
      "execution_count": null,
      "outputs": [
        {
          "output_type": "execute_result",
          "data": {
            "text/plain": [
              "                                               review label\n",
              "0   films adapted from comic books have had plenty...   pos\n",
              "1   every now and then a movie comes along from a ...   pos\n",
              "2   you've got mail works alot better than it dese...   pos\n",
              "3    \" jaws \" is a rare film that grabs your atten...   pos\n",
              "4   moviemaking is a lot like being the general ma...   pos\n",
              "5   on june 30 , 1960 , a self-taught , idealistic...   pos\n",
              "6   apparently , director tony kaye had a major ba...   pos\n",
              "7   one of my colleagues was surprised when i told...   pos\n",
              "8   after bloody clashes and independence won , lu...   pos\n",
              "9   the american action film has been slowly drown...   pos\n",
              "10  after watching \" rat race \" last week , i noti...   pos\n",
              "11  i've noticed something lately that i've never ...   pos\n",
              "12  synopsis : bobby garfield ( yelchin ) lives in...   pos\n",
              "13  synopsis : in this movie , steven spielberg , ...   pos\n",
              "14  the police negotiator is the person with the e...   pos\n",
              "15  plot : a young man who loves heavy metal music...   pos\n",
              "16  carry on matron is the last great carry-on fil...   pos\n",
              "17  the ultimate match up between good and evil , ...   pos\n",
              "18  having not seen , \" who framed roger rabbit \" ...   pos\n",
              "19  there's something about ben stiller that makes...   pos"
            ],
            "text/html": [
              "\n",
              "  <div id=\"df-67cafb4a-2465-4bac-938a-c09a06dad2ee\">\n",
              "    <div class=\"colab-df-container\">\n",
              "      <div>\n",
              "<style scoped>\n",
              "    .dataframe tbody tr th:only-of-type {\n",
              "        vertical-align: middle;\n",
              "    }\n",
              "\n",
              "    .dataframe tbody tr th {\n",
              "        vertical-align: top;\n",
              "    }\n",
              "\n",
              "    .dataframe thead th {\n",
              "        text-align: right;\n",
              "    }\n",
              "</style>\n",
              "<table border=\"1\" class=\"dataframe\">\n",
              "  <thead>\n",
              "    <tr style=\"text-align: right;\">\n",
              "      <th></th>\n",
              "      <th>review</th>\n",
              "      <th>label</th>\n",
              "    </tr>\n",
              "  </thead>\n",
              "  <tbody>\n",
              "    <tr>\n",
              "      <th>0</th>\n",
              "      <td>films adapted from comic books have had plenty...</td>\n",
              "      <td>pos</td>\n",
              "    </tr>\n",
              "    <tr>\n",
              "      <th>1</th>\n",
              "      <td>every now and then a movie comes along from a ...</td>\n",
              "      <td>pos</td>\n",
              "    </tr>\n",
              "    <tr>\n",
              "      <th>2</th>\n",
              "      <td>you've got mail works alot better than it dese...</td>\n",
              "      <td>pos</td>\n",
              "    </tr>\n",
              "    <tr>\n",
              "      <th>3</th>\n",
              "      <td>\" jaws \" is a rare film that grabs your atten...</td>\n",
              "      <td>pos</td>\n",
              "    </tr>\n",
              "    <tr>\n",
              "      <th>4</th>\n",
              "      <td>moviemaking is a lot like being the general ma...</td>\n",
              "      <td>pos</td>\n",
              "    </tr>\n",
              "    <tr>\n",
              "      <th>5</th>\n",
              "      <td>on june 30 , 1960 , a self-taught , idealistic...</td>\n",
              "      <td>pos</td>\n",
              "    </tr>\n",
              "    <tr>\n",
              "      <th>6</th>\n",
              "      <td>apparently , director tony kaye had a major ba...</td>\n",
              "      <td>pos</td>\n",
              "    </tr>\n",
              "    <tr>\n",
              "      <th>7</th>\n",
              "      <td>one of my colleagues was surprised when i told...</td>\n",
              "      <td>pos</td>\n",
              "    </tr>\n",
              "    <tr>\n",
              "      <th>8</th>\n",
              "      <td>after bloody clashes and independence won , lu...</td>\n",
              "      <td>pos</td>\n",
              "    </tr>\n",
              "    <tr>\n",
              "      <th>9</th>\n",
              "      <td>the american action film has been slowly drown...</td>\n",
              "      <td>pos</td>\n",
              "    </tr>\n",
              "    <tr>\n",
              "      <th>10</th>\n",
              "      <td>after watching \" rat race \" last week , i noti...</td>\n",
              "      <td>pos</td>\n",
              "    </tr>\n",
              "    <tr>\n",
              "      <th>11</th>\n",
              "      <td>i've noticed something lately that i've never ...</td>\n",
              "      <td>pos</td>\n",
              "    </tr>\n",
              "    <tr>\n",
              "      <th>12</th>\n",
              "      <td>synopsis : bobby garfield ( yelchin ) lives in...</td>\n",
              "      <td>pos</td>\n",
              "    </tr>\n",
              "    <tr>\n",
              "      <th>13</th>\n",
              "      <td>synopsis : in this movie , steven spielberg , ...</td>\n",
              "      <td>pos</td>\n",
              "    </tr>\n",
              "    <tr>\n",
              "      <th>14</th>\n",
              "      <td>the police negotiator is the person with the e...</td>\n",
              "      <td>pos</td>\n",
              "    </tr>\n",
              "    <tr>\n",
              "      <th>15</th>\n",
              "      <td>plot : a young man who loves heavy metal music...</td>\n",
              "      <td>pos</td>\n",
              "    </tr>\n",
              "    <tr>\n",
              "      <th>16</th>\n",
              "      <td>carry on matron is the last great carry-on fil...</td>\n",
              "      <td>pos</td>\n",
              "    </tr>\n",
              "    <tr>\n",
              "      <th>17</th>\n",
              "      <td>the ultimate match up between good and evil , ...</td>\n",
              "      <td>pos</td>\n",
              "    </tr>\n",
              "    <tr>\n",
              "      <th>18</th>\n",
              "      <td>having not seen , \" who framed roger rabbit \" ...</td>\n",
              "      <td>pos</td>\n",
              "    </tr>\n",
              "    <tr>\n",
              "      <th>19</th>\n",
              "      <td>there's something about ben stiller that makes...</td>\n",
              "      <td>pos</td>\n",
              "    </tr>\n",
              "  </tbody>\n",
              "</table>\n",
              "</div>\n",
              "      <button class=\"colab-df-convert\" onclick=\"convertToInteractive('df-67cafb4a-2465-4bac-938a-c09a06dad2ee')\"\n",
              "              title=\"Convert this dataframe to an interactive table.\"\n",
              "              style=\"display:none;\">\n",
              "        \n",
              "  <svg xmlns=\"http://www.w3.org/2000/svg\" height=\"24px\"viewBox=\"0 0 24 24\"\n",
              "       width=\"24px\">\n",
              "    <path d=\"M0 0h24v24H0V0z\" fill=\"none\"/>\n",
              "    <path d=\"M18.56 5.44l.94 2.06.94-2.06 2.06-.94-2.06-.94-.94-2.06-.94 2.06-2.06.94zm-11 1L8.5 8.5l.94-2.06 2.06-.94-2.06-.94L8.5 2.5l-.94 2.06-2.06.94zm10 10l.94 2.06.94-2.06 2.06-.94-2.06-.94-.94-2.06-.94 2.06-2.06.94z\"/><path d=\"M17.41 7.96l-1.37-1.37c-.4-.4-.92-.59-1.43-.59-.52 0-1.04.2-1.43.59L10.3 9.45l-7.72 7.72c-.78.78-.78 2.05 0 2.83L4 21.41c.39.39.9.59 1.41.59.51 0 1.02-.2 1.41-.59l7.78-7.78 2.81-2.81c.8-.78.8-2.07 0-2.86zM5.41 20L4 18.59l7.72-7.72 1.47 1.35L5.41 20z\"/>\n",
              "  </svg>\n",
              "      </button>\n",
              "      \n",
              "  <style>\n",
              "    .colab-df-container {\n",
              "      display:flex;\n",
              "      flex-wrap:wrap;\n",
              "      gap: 12px;\n",
              "    }\n",
              "\n",
              "    .colab-df-convert {\n",
              "      background-color: #E8F0FE;\n",
              "      border: none;\n",
              "      border-radius: 50%;\n",
              "      cursor: pointer;\n",
              "      display: none;\n",
              "      fill: #1967D2;\n",
              "      height: 32px;\n",
              "      padding: 0 0 0 0;\n",
              "      width: 32px;\n",
              "    }\n",
              "\n",
              "    .colab-df-convert:hover {\n",
              "      background-color: #E2EBFA;\n",
              "      box-shadow: 0px 1px 2px rgba(60, 64, 67, 0.3), 0px 1px 3px 1px rgba(60, 64, 67, 0.15);\n",
              "      fill: #174EA6;\n",
              "    }\n",
              "\n",
              "    [theme=dark] .colab-df-convert {\n",
              "      background-color: #3B4455;\n",
              "      fill: #D2E3FC;\n",
              "    }\n",
              "\n",
              "    [theme=dark] .colab-df-convert:hover {\n",
              "      background-color: #434B5C;\n",
              "      box-shadow: 0px 1px 3px 1px rgba(0, 0, 0, 0.15);\n",
              "      filter: drop-shadow(0px 1px 2px rgba(0, 0, 0, 0.3));\n",
              "      fill: #FFFFFF;\n",
              "    }\n",
              "  </style>\n",
              "\n",
              "      <script>\n",
              "        const buttonEl =\n",
              "          document.querySelector('#df-67cafb4a-2465-4bac-938a-c09a06dad2ee button.colab-df-convert');\n",
              "        buttonEl.style.display =\n",
              "          google.colab.kernel.accessAllowed ? 'block' : 'none';\n",
              "\n",
              "        async function convertToInteractive(key) {\n",
              "          const element = document.querySelector('#df-67cafb4a-2465-4bac-938a-c09a06dad2ee');\n",
              "          const dataTable =\n",
              "            await google.colab.kernel.invokeFunction('convertToInteractive',\n",
              "                                                     [key], {});\n",
              "          if (!dataTable) return;\n",
              "\n",
              "          const docLinkHtml = 'Like what you see? Visit the ' +\n",
              "            '<a target=\"_blank\" href=https://colab.research.google.com/notebooks/data_table.ipynb>data table notebook</a>'\n",
              "            + ' to learn more about interactive tables.';\n",
              "          element.innerHTML = '';\n",
              "          dataTable['output_type'] = 'display_data';\n",
              "          await google.colab.output.renderOutput(dataTable, element);\n",
              "          const docLink = document.createElement('div');\n",
              "          docLink.innerHTML = docLinkHtml;\n",
              "          element.appendChild(docLink);\n",
              "        }\n",
              "      </script>\n",
              "    </div>\n",
              "  </div>\n",
              "  "
            ]
          },
          "metadata": {},
          "execution_count": 81
        }
      ]
    },
    {
      "cell_type": "markdown",
      "source": [
        "##**1.1)Lower casing**\n",
        "Conversion of case to lower case"
      ],
      "metadata": {
        "id": "BYt1Bd5pL7as"
      }
    },
    {
      "cell_type": "code",
      "source": [
        "# Convert positive reviews to lower case\n",
        "positive_features.review = positive_features.review.apply(lambda x:x.lower())"
      ],
      "metadata": {
        "id": "MfapHV0YMApd"
      },
      "execution_count": null,
      "outputs": []
    },
    {
      "cell_type": "code",
      "source": [
        "# Convert positive reviews to upper case\n",
        "negative_features.review = negative_features.review.apply(lambda x:x.lower())"
      ],
      "metadata": {
        "id": "NeX7VQqfMDqG"
      },
      "execution_count": null,
      "outputs": []
    },
    {
      "cell_type": "markdown",
      "source": [
        "# **1.2)Punctuation**\n",
        "Similar to stopwords, since our text is already split into sentences removing punctuation can be performed without much information loss and to clean up the text to just words."
      ],
      "metadata": {
        "id": "QmHbnWNvMS9a"
      }
    },
    {
      "cell_type": "code",
      "source": [
        "positive_features.review[1]"
      ],
      "metadata": {
        "colab": {
          "base_uri": "https://localhost:8080/",
          "height": 196
        },
        "id": "sOIhFJBOMdx6",
        "outputId": "252ee705-65da-40a5-f66f-a09fe1833fe4"
      },
      "execution_count": null,
      "outputs": [
        {
          "output_type": "execute_result",
          "data": {
            "text/plain": [
              "'every now and then a movie comes along from a suspect studio , with every indication that it will be a stinker , and to everybody\\'s surprise ( perhaps even the studio ) the film becomes a critical darling . \\nmtv films\\' _election , a high school comedy starring matthew broderick and reese witherspoon , is a current example . \\ndid anybody know this film existed a week before it opened ? \\nthe plot is deceptively simple . \\ngeorge washington carver high school is having student elections . \\ntracy flick ( reese witherspoon ) is an over-achiever with her hand raised at nearly every question , way , way , high . \\nmr . \" m \" ( matthew broderick ) , sick of the megalomaniac student , encourages paul , a popular-but-slow jock to run . \\nand paul\\'s nihilistic sister jumps in the race as well , for personal reasons . \\nthe dark side of such sleeper success is that , because expectations were so low going in , the fact that this was quality stuff made the reviews even more enthusiastic than they have any right to be . \\nyou can\\'t help going in with the baggage of glowing reviews , which is in contrast to the negative baggage that the reviewers were likely to have . \\n_election , a good film , does not live up to its hype . \\nwhat makes _election_ so disappointing is that it contains significant plot details lifted directly from _rushmore_ , released a few months earlier . \\nthe similarities are staggering : \\ntracy flick ( _election_ ) is the president of an extraordinary number of clubs , and is involved with the school play . \\nmax fischer ( _rushmore_ ) is the president of an extraordinary number of clubs , and is involved with the school play . \\nthe most significant tension of _election_ is the potential relationship between a teacher and his student . \\nthe most significant tension of _rushmore_ is the potential relationship between a teacher and his student . \\ntracy flick is from a single parent home , which has contributed to her drive . \\nmax fischer is from a single parent home , which has contributed to his drive . \\nthe male bumbling adult in _election_ ( matthew broderick ) pursues an extramarital affair , gets caught , and his whole life is ruined . \\nhe even gets a bee sting . \\nthe male bumbling adult in _rushmore_ ( bill murray ) pursues an extramarital affair , gets caught , and his whole life is ruined . \\nhe gets several bee stings . \\nand so on . \\nwhat happened ? \\nhow is it that an individual screenplay ( _rushmore_ ) and a novel ( _election_ ) contain so many significant plot points , and yet both films were probably not even aware of each other , made from two different studios , from a genre ( the high school geeks revenge movie ) that hadn\\'t been fully formed yet ? \\neven so , the strengths of _election_ rely upon its fantastic performances from broderick , witherspoon , and newcomer jessica campbell , as paul\\'s anti-social sister , tammy . \\nbroderick here is playing the mr . rooney role from _ferris bueller_ , and he seems to be having the most fun he\\'s had since then . \\nwitherspoon is a revelation . \\nit\\'s early in the year , it\\'s a comedy , and teenagers have little clout , but for my money , witherspoon deserves an oscar nomination . \\nand once campbell\\'s character gets going , like in her fantastic speech in the gymnasium , then you\\'re won over . \\none thing that\\'s been bothering me since i\\'ve seen it . \\nthere is an extraordinary amount of sexuality in this film . \\ni suppose that , coming from mtv films , i should expect no less . . . \\nbut the film starts off light and airy , like a sitcom . \\nas the screws tighten , and the tensions mount , alexander payne decides to add elements that , frankly , distract from the story . \\nit is bad enough that mr . m doesn\\'t like tracy\\'s determination to win at all costs , but did they have to throw in the student/teacher relationship ? \\neven so , there\\'s no logical reason why mr . m has an affair when he does . \\nthere\\'s a lot to like in _election_ , but the plot similarities to _rushmore_ , and the tonal nosedive it takes as it gets explicitly sex-driven , mark this as a disappointment . \\n'"
            ],
            "application/vnd.google.colaboratory.intrinsic+json": {
              "type": "string"
            }
          },
          "metadata": {},
          "execution_count": 84
        }
      ]
    },
    {
      "cell_type": "code",
      "source": [
        "positive_features.review[1].split()[0:20]  #upto 20 indexes"
      ],
      "metadata": {
        "colab": {
          "base_uri": "https://localhost:8080/"
        },
        "id": "FO1lO_-6M2DJ",
        "outputId": "86cc7ce6-bbdb-46ed-c06c-f86e7b2beb71"
      },
      "execution_count": null,
      "outputs": [
        {
          "output_type": "execute_result",
          "data": {
            "text/plain": [
              "['every',\n",
              " 'now',\n",
              " 'and',\n",
              " 'then',\n",
              " 'a',\n",
              " 'movie',\n",
              " 'comes',\n",
              " 'along',\n",
              " 'from',\n",
              " 'a',\n",
              " 'suspect',\n",
              " 'studio',\n",
              " ',',\n",
              " 'with',\n",
              " 'every',\n",
              " 'indication',\n",
              " 'that',\n",
              " 'it',\n",
              " 'will',\n",
              " 'be']"
            ]
          },
          "metadata": {},
          "execution_count": 85
        }
      ]
    },
    {
      "cell_type": "code",
      "source": [
        "punctuations = list(string.punctuation)\n",
        "punctuations[1:20] #upto 20 indexes from our punctuation string"
      ],
      "metadata": {
        "colab": {
          "base_uri": "https://localhost:8080/"
        },
        "id": "A55ktrg8M-wI",
        "outputId": "42714649-a705-4699-df1d-b293ed813236"
      },
      "execution_count": null,
      "outputs": [
        {
          "output_type": "execute_result",
          "data": {
            "text/plain": [
              "['\"',\n",
              " '#',\n",
              " '$',\n",
              " '%',\n",
              " '&',\n",
              " \"'\",\n",
              " '(',\n",
              " ')',\n",
              " '*',\n",
              " '+',\n",
              " ',',\n",
              " '-',\n",
              " '.',\n",
              " '/',\n",
              " ':',\n",
              " ';',\n",
              " '<',\n",
              " '=',\n",
              " '>']"
            ]
          },
          "metadata": {},
          "execution_count": 86
        }
      ]
    },
    {
      "cell_type": "code",
      "source": [
        "# REmoval of punctuations\n",
        "positive_features.review = positive_features.review.apply(lambda x: \" \".join(x for x in x.split() if x not in punctuations))\n",
        "negative_features.review = negative_features.review.apply(lambda x: \" \".join(x for x in x.split() if x not in punctuations))"
      ],
      "metadata": {
        "id": "A8YsSlV7NHko"
      },
      "execution_count": null,
      "outputs": []
    },
    {
      "cell_type": "code",
      "source": [
        "# Visualize data after removing punctuations\n",
        "positive_features.review[1]"
      ],
      "metadata": {
        "colab": {
          "base_uri": "https://localhost:8080/",
          "height": 196
        },
        "id": "pg4Xdy_wNNZ8",
        "outputId": "7bbad490-ec6c-4a4c-9d7f-3c0c9979bf43"
      },
      "execution_count": null,
      "outputs": [
        {
          "output_type": "execute_result",
          "data": {
            "text/plain": [
              "\"every now and then a movie comes along from a suspect studio with every indication that it will be a stinker and to everybody's surprise perhaps even the studio the film becomes a critical darling mtv films' _election a high school comedy starring matthew broderick and reese witherspoon is a current example did anybody know this film existed a week before it opened the plot is deceptively simple george washington carver high school is having student elections tracy flick reese witherspoon is an over-achiever with her hand raised at nearly every question way way high mr m matthew broderick sick of the megalomaniac student encourages paul a popular-but-slow jock to run and paul's nihilistic sister jumps in the race as well for personal reasons the dark side of such sleeper success is that because expectations were so low going in the fact that this was quality stuff made the reviews even more enthusiastic than they have any right to be you can't help going in with the baggage of glowing reviews which is in contrast to the negative baggage that the reviewers were likely to have _election a good film does not live up to its hype what makes _election_ so disappointing is that it contains significant plot details lifted directly from _rushmore_ released a few months earlier the similarities are staggering tracy flick _election_ is the president of an extraordinary number of clubs and is involved with the school play max fischer _rushmore_ is the president of an extraordinary number of clubs and is involved with the school play the most significant tension of _election_ is the potential relationship between a teacher and his student the most significant tension of _rushmore_ is the potential relationship between a teacher and his student tracy flick is from a single parent home which has contributed to her drive max fischer is from a single parent home which has contributed to his drive the male bumbling adult in _election_ matthew broderick pursues an extramarital affair gets caught and his whole life is ruined he even gets a bee sting the male bumbling adult in _rushmore_ bill murray pursues an extramarital affair gets caught and his whole life is ruined he gets several bee stings and so on what happened how is it that an individual screenplay _rushmore_ and a novel _election_ contain so many significant plot points and yet both films were probably not even aware of each other made from two different studios from a genre the high school geeks revenge movie that hadn't been fully formed yet even so the strengths of _election_ rely upon its fantastic performances from broderick witherspoon and newcomer jessica campbell as paul's anti-social sister tammy broderick here is playing the mr rooney role from _ferris bueller_ and he seems to be having the most fun he's had since then witherspoon is a revelation it's early in the year it's a comedy and teenagers have little clout but for my money witherspoon deserves an oscar nomination and once campbell's character gets going like in her fantastic speech in the gymnasium then you're won over one thing that's been bothering me since i've seen it there is an extraordinary amount of sexuality in this film i suppose that coming from mtv films i should expect no less but the film starts off light and airy like a sitcom as the screws tighten and the tensions mount alexander payne decides to add elements that frankly distract from the story it is bad enough that mr m doesn't like tracy's determination to win at all costs but did they have to throw in the student/teacher relationship even so there's no logical reason why mr m has an affair when he does there's a lot to like in _election_ but the plot similarities to _rushmore_ and the tonal nosedive it takes as it gets explicitly sex-driven mark this as a disappointment\""
            ],
            "application/vnd.google.colaboratory.intrinsic+json": {
              "type": "string"
            }
          },
          "metadata": {},
          "execution_count": 88
        }
      ]
    },
    {
      "cell_type": "code",
      "source": [
        "#here we can see punctuations were removed\n",
        "positive_features.review[1].split()[0:20] "
      ],
      "metadata": {
        "colab": {
          "base_uri": "https://localhost:8080/"
        },
        "id": "HtVuBf8BNRVd",
        "outputId": "cb529b52-3ba1-4f29-976d-3f75321023ca"
      },
      "execution_count": null,
      "outputs": [
        {
          "output_type": "execute_result",
          "data": {
            "text/plain": [
              "['every',\n",
              " 'now',\n",
              " 'and',\n",
              " 'then',\n",
              " 'a',\n",
              " 'movie',\n",
              " 'comes',\n",
              " 'along',\n",
              " 'from',\n",
              " 'a',\n",
              " 'suspect',\n",
              " 'studio',\n",
              " 'with',\n",
              " 'every',\n",
              " 'indication',\n",
              " 'that',\n",
              " 'it',\n",
              " 'will',\n",
              " 'be',\n",
              " 'a']"
            ]
          },
          "metadata": {},
          "execution_count": 89
        }
      ]
    },
    {
      "cell_type": "markdown",
      "source": [
        "# **1.3)Identifying and Remove Stop Words**\n",
        "\n",
        "A stop word is a commonly used word (such as “the”, “a”, “an”, “in”).\n",
        "Removal of stopwords is necessary since they add noise without having any informational value in modeling."
      ],
      "metadata": {
        "id": "AYnQKyx6Nc3k"
      }
    },
    {
      "cell_type": "code",
      "source": [
        "# Loading stop words from nltk toolkit\n",
        "nltk.download('stopwords')"
      ],
      "metadata": {
        "colab": {
          "base_uri": "https://localhost:8080/"
        },
        "id": "kRP9xNe_NV2t",
        "outputId": "8f17bfca-35dd-472b-8a8f-8ab80fcbea56"
      },
      "execution_count": null,
      "outputs": [
        {
          "output_type": "stream",
          "name": "stderr",
          "text": [
            "[nltk_data] Downloading package stopwords to /root/nltk_data...\n",
            "[nltk_data]   Package stopwords is already up-to-date!\n"
          ]
        },
        {
          "output_type": "execute_result",
          "data": {
            "text/plain": [
              "True"
            ]
          },
          "metadata": {},
          "execution_count": 90
        }
      ]
    },
    {
      "cell_type": "code",
      "source": [
        "# importing all the stop words list of English \n",
        "stop = stopwords.words('english') "
      ],
      "metadata": {
        "id": "2RUzLaSyNkzh"
      },
      "execution_count": null,
      "outputs": []
    },
    {
      "cell_type": "code",
      "source": [
        "# Visualize the first 20 stop words of english language as per nltk\n",
        "stop[0:20]"
      ],
      "metadata": {
        "colab": {
          "base_uri": "https://localhost:8080/"
        },
        "id": "sfrjIgiBNmdC",
        "outputId": "5c044fef-4ca8-482a-f9c4-aaeb6189d13d"
      },
      "execution_count": null,
      "outputs": [
        {
          "output_type": "execute_result",
          "data": {
            "text/plain": [
              "['i',\n",
              " 'me',\n",
              " 'my',\n",
              " 'myself',\n",
              " 'we',\n",
              " 'our',\n",
              " 'ours',\n",
              " 'ourselves',\n",
              " 'you',\n",
              " \"you're\",\n",
              " \"you've\",\n",
              " \"you'll\",\n",
              " \"you'd\",\n",
              " 'your',\n",
              " 'yours',\n",
              " 'yourself',\n",
              " 'yourselves',\n",
              " 'he',\n",
              " 'him',\n",
              " 'his']"
            ]
          },
          "metadata": {},
          "execution_count": 92
        }
      ]
    },
    {
      "cell_type": "code",
      "source": [
        "#Total number of stop words of english language as per nltk\n",
        "print('Total stop words:',len(stop)) "
      ],
      "metadata": {
        "colab": {
          "base_uri": "https://localhost:8080/"
        },
        "id": "3UCotn4MNvP5",
        "outputId": "12fa777f-b6ff-44c1-8eec-79bf98b69a2a"
      },
      "execution_count": null,
      "outputs": [
        {
          "output_type": "stream",
          "name": "stdout",
          "text": [
            "Total stop words: 179\n"
          ]
        }
      ]
    },
    {
      "cell_type": "code",
      "source": [
        "#Removing stop words\n",
        "positive_features.review = positive_features.review.apply(lambda x: \" \".join(x for x in x.split() if x not in stop))\n",
        "negative_features.review = negative_features.review.apply(lambda x: \" \".join(x for x in x.split() if x not in stop))"
      ],
      "metadata": {
        "id": "LpM6mhRhNyep"
      },
      "execution_count": null,
      "outputs": []
    },
    {
      "cell_type": "code",
      "source": [
        "# Visualize a review after stop word removal\n",
        "positive_features.review[1]  "
      ],
      "metadata": {
        "colab": {
          "base_uri": "https://localhost:8080/",
          "height": 196
        },
        "id": "vr8XXvJZN2hp",
        "outputId": "cb2c4f40-f0a1-4441-c8d8-b99262ce8464"
      },
      "execution_count": null,
      "outputs": [
        {
          "output_type": "execute_result",
          "data": {
            "text/plain": [
              "\"every movie comes along suspect studio every indication stinker everybody's surprise perhaps even studio film becomes critical darling mtv films' _election high school comedy starring matthew broderick reese witherspoon current example anybody know film existed week opened plot deceptively simple george washington carver high school student elections tracy flick reese witherspoon over-achiever hand raised nearly every question way way high mr matthew broderick sick megalomaniac student encourages paul popular-but-slow jock run paul's nihilistic sister jumps race well personal reasons dark side sleeper success expectations low going fact quality stuff made reviews even enthusiastic right can't help going baggage glowing reviews contrast negative baggage reviewers likely _election good film live hype makes _election_ disappointing contains significant plot details lifted directly _rushmore_ released months earlier similarities staggering tracy flick _election_ president extraordinary number clubs involved school play max fischer _rushmore_ president extraordinary number clubs involved school play significant tension _election_ potential relationship teacher student significant tension _rushmore_ potential relationship teacher student tracy flick single parent home contributed drive max fischer single parent home contributed drive male bumbling adult _election_ matthew broderick pursues extramarital affair gets caught whole life ruined even gets bee sting male bumbling adult _rushmore_ bill murray pursues extramarital affair gets caught whole life ruined gets several bee stings happened individual screenplay _rushmore_ novel _election_ contain many significant plot points yet films probably even aware made two different studios genre high school geeks revenge movie fully formed yet even strengths _election_ rely upon fantastic performances broderick witherspoon newcomer jessica campbell paul's anti-social sister tammy broderick playing mr rooney role _ferris bueller_ seems fun he's since witherspoon revelation early year comedy teenagers little clout money witherspoon deserves oscar nomination campbell's character gets going like fantastic speech gymnasium one thing that's bothering since i've seen extraordinary amount sexuality film suppose coming mtv films expect less film starts light airy like sitcom screws tighten tensions mount alexander payne decides add elements frankly distract story bad enough mr like tracy's determination win costs throw student/teacher relationship even there's logical reason mr affair there's lot like _election_ plot similarities _rushmore_ tonal nosedive takes gets explicitly sex-driven mark disappointment\""
            ],
            "application/vnd.google.colaboratory.intrinsic+json": {
              "type": "string"
            }
          },
          "metadata": {},
          "execution_count": 95
        }
      ]
    },
    {
      "cell_type": "markdown",
      "source": [
        "# **1.4)Tokenize Text in Words**\n",
        "\n",
        "* Tokenizing text is important since text can’t be processed without tokenization. \n",
        "* Tokenization process means splitting bigger parts to small parts.\n",
        "* You can tokenize paragraphs to sentences and tokenize sentences to words according to your needs.\n",
        "* NLTK comes with sentence tokenizer and word tokenizer.\n",
        "* Non english text can also be tokenized by specifying the language\n",
        "  * Sentence Tokenization\n"
      ],
      "metadata": {
        "id": "QYtLZEZcOQi9"
      }
    },
    {
      "cell_type": "code",
      "source": [
        "#Use Punkt Sentence Tokenizer of nltk\n",
        "nltk.download('punkt')"
      ],
      "metadata": {
        "colab": {
          "base_uri": "https://localhost:8080/"
        },
        "id": "RaLZAKcBOUsV",
        "outputId": "4c03d7a9-a781-4211-98e0-dce564638bc5"
      },
      "execution_count": null,
      "outputs": [
        {
          "output_type": "stream",
          "name": "stderr",
          "text": [
            "[nltk_data] Downloading package punkt to /root/nltk_data...\n",
            "[nltk_data]   Unzipping tokenizers/punkt.zip.\n"
          ]
        },
        {
          "output_type": "execute_result",
          "data": {
            "text/plain": [
              "True"
            ]
          },
          "metadata": {},
          "execution_count": 28
        }
      ]
    },
    {
      "cell_type": "markdown",
      "source": [
        "**Sentence Tokenizing:**"
      ],
      "metadata": {
        "id": "l-vDI1CyObtx"
      }
    },
    {
      "cell_type": "code",
      "source": [
        "#sentences are tokenized using \"_\"\n",
        "sent_tokenize(positive_features.review[1]) "
      ],
      "metadata": {
        "colab": {
          "base_uri": "https://localhost:8080/"
        },
        "id": "NvIvy5rpOBFk",
        "outputId": "64c36bfd-2c23-4f3c-89aa-c719787747d8"
      },
      "execution_count": null,
      "outputs": [
        {
          "output_type": "execute_result",
          "data": {
            "text/plain": [
              "[\"every movie comes along suspect studio , every indication stinker , everybody's surprise ( perhaps even studio ) film becomes critical darling .\",\n",
              " \"mtv films' _election , high school comedy starring matthew broderick reese witherspoon , current example .\",\n",
              " 'anybody know film existed week opened ?',\n",
              " 'plot deceptively simple .',\n",
              " 'george washington carver high school student elections .',\n",
              " 'tracy flick ( reese witherspoon ) over-achiever hand raised nearly every question , way , way , high .',\n",
              " 'mr . \" \" ( matthew broderick ) , sick megalomaniac student , encourages paul , popular-but-slow jock run .',\n",
              " \"paul's nihilistic sister jumps race well , personal reasons .\",\n",
              " 'dark side sleeper success , expectations low going , fact quality stuff made reviews even enthusiastic right .',\n",
              " \"can't help going baggage glowing reviews , contrast negative baggage reviewers likely .\",\n",
              " '_election , good film , live hype .',\n",
              " 'makes _election_ disappointing contains significant plot details lifted directly _rushmore_ , released months earlier .',\n",
              " 'similarities staggering : tracy flick ( _election_ ) president extraordinary number clubs , involved school play .',\n",
              " 'max fischer ( _rushmore_ ) president extraordinary number clubs , involved school play .',\n",
              " 'significant tension _election_ potential relationship teacher student .',\n",
              " 'significant tension _rushmore_ potential relationship teacher student .',\n",
              " 'tracy flick single parent home , contributed drive .',\n",
              " 'max fischer single parent home , contributed drive .',\n",
              " 'male bumbling adult _election_ ( matthew broderick ) pursues extramarital affair , gets caught , whole life ruined .',\n",
              " 'even gets bee sting .',\n",
              " 'male bumbling adult _rushmore_ ( bill murray ) pursues extramarital affair , gets caught , whole life ruined .',\n",
              " 'gets several bee stings . . happened ?',\n",
              " 'individual screenplay ( _rushmore_ ) novel ( _election_ ) contain many significant plot points , yet films probably even aware , made two different studios , genre ( high school geeks revenge movie ) fully formed yet ?',\n",
              " \"even , strengths _election_ rely upon fantastic performances broderick , witherspoon , newcomer jessica campbell , paul's anti-social sister , tammy .\",\n",
              " \"broderick playing mr . rooney role _ferris bueller_ , seems fun he's since .\",\n",
              " 'witherspoon revelation .',\n",
              " 'early year , comedy , teenagers little clout , money , witherspoon deserves oscar nomination .',\n",
              " \"campbell's character gets going , like fantastic speech gymnasium , .\",\n",
              " \"one thing that's bothering since i've seen .\",\n",
              " 'extraordinary amount sexuality film .',\n",
              " 'suppose , coming mtv films , expect less .',\n",
              " '. . film starts light airy , like sitcom .',\n",
              " 'screws tighten , tensions mount , alexander payne decides add elements , frankly , distract story .',\n",
              " \"bad enough mr . like tracy's determination win costs , throw student/teacher relationship ?\",\n",
              " \"even , there's logical reason mr . affair .\",\n",
              " \"there's lot like _election_ , plot similarities _rushmore_ , tonal nosedive takes gets explicitly sex-driven , mark disappointment .\"]"
            ]
          },
          "metadata": {},
          "execution_count": 78
        }
      ]
    },
    {
      "cell_type": "markdown",
      "source": [
        "**Word Tokenizing:**"
      ],
      "metadata": {
        "id": "IRGgFZogOkGz"
      }
    },
    {
      "cell_type": "code",
      "source": [
        "positive_features['review_tokenized'] = positive_features.review.apply(lambda x: word_tokenize(x))\n",
        "negative_features['review_tokenized'] = negative_features.review.apply(lambda x: word_tokenize(x))"
      ],
      "metadata": {
        "id": "C5l0hjEdOlZn"
      },
      "execution_count": null,
      "outputs": []
    },
    {
      "cell_type": "code",
      "source": [
        "positive_features['review_tokenized'].head()"
      ],
      "metadata": {
        "colab": {
          "base_uri": "https://localhost:8080/"
        },
        "id": "TkCSmjV0OgdN",
        "outputId": "1ca060da-14d2-4830-a70c-5b438d5571b7"
      },
      "execution_count": null,
      "outputs": [
        {
          "output_type": "execute_result",
          "data": {
            "text/plain": [
              "0    [films, adapted, comic, books, plenty, success...\n",
              "1    [every, movie, comes, along, suspect, studio, ...\n",
              "2    [got, mail, works, alot, better, deserves, ord...\n",
              "3    [jaws, rare, film, grabs, attention, shows, si...\n",
              "4    [moviemaking, lot, like, general, manager, nfl...\n",
              "Name: review_tokenized, dtype: object"
            ]
          },
          "metadata": {},
          "execution_count": 99
        }
      ]
    },
    {
      "cell_type": "markdown",
      "source": [
        "# **1.5)NLTK Word Stemming**\n",
        "\n",
        "* Word stemming means removing affixes from words and return the root word. \n",
        "  * Ex: The stem of the word working => work.\n",
        "* Search engines use this technique when indexing pages, so many people write different versions for the same word and all of them are stemmed to the root word.\n",
        "* There are many algorithms for stemming, but the most popular algorithm is **Porter stemming** algorithm.\n",
        "* NLTK has a class called PorterStemmer which uses Porter stemming algorithm."
      ],
      "metadata": {
        "id": "4o7NW7drO_bV"
      }
    },
    {
      "cell_type": "code",
      "source": [
        "# LOading PorterStemmer\n",
        "stemmer = PorterStemmer()\n",
        "#Showing the use of stemmer on the word working\n",
        "print(stemmer.stem('working'))"
      ],
      "metadata": {
        "colab": {
          "base_uri": "https://localhost:8080/"
        },
        "id": "go_disPgPCe2",
        "outputId": "87e3f813-4534-4196-ecfb-1759f99ca334"
      },
      "execution_count": null,
      "outputs": [
        {
          "output_type": "stream",
          "name": "stdout",
          "text": [
            "work\n"
          ]
        }
      ]
    },
    {
      "cell_type": "code",
      "source": [
        "# Apply Stemmer on reviews data\n",
        "positive_features['review_stemmed'] = positive_features.review_tokenized.apply(lambda x: [stemmer.stem(word) for word in x])\n",
        "negative_features['review_stemmed'] = negative_features.review_tokenized.apply(lambda x: [stemmer.stem(word) for word in x])"
      ],
      "metadata": {
        "id": "gGqrN95jOpwS"
      },
      "execution_count": null,
      "outputs": []
    },
    {
      "cell_type": "code",
      "source": [
        "positive_features.review_stemmed.head()"
      ],
      "metadata": {
        "colab": {
          "base_uri": "https://localhost:8080/"
        },
        "id": "SEw1BmliPNTc",
        "outputId": "9ad09e52-de7b-4bca-b96e-aee8ba926920"
      },
      "execution_count": null,
      "outputs": [
        {
          "output_type": "execute_result",
          "data": {
            "text/plain": [
              "0    [film, adapt, comic, book, plenti, success, wh...\n",
              "1    [everi, movi, come, along, suspect, studio, ev...\n",
              "2    [got, mail, work, alot, better, deserv, order,...\n",
              "3    [jaw, rare, film, grab, attent, show, singl, i...\n",
              "4    [moviemak, lot, like, gener, manag, nfl, team,...\n",
              "Name: review_stemmed, dtype: object"
            ]
          },
          "metadata": {},
          "execution_count": 103
        }
      ]
    },
    {
      "cell_type": "code",
      "source": [
        "positive_features.review_stemmed.head()"
      ],
      "metadata": {
        "colab": {
          "base_uri": "https://localhost:8080/"
        },
        "id": "tk_VCXFRPUcA",
        "outputId": "833ce78f-ae99-4c30-cb58-38f203a45d80"
      },
      "execution_count": null,
      "outputs": [
        {
          "output_type": "execute_result",
          "data": {
            "text/plain": [
              "0    [film, adapt, comic, book, plenti, success, wh...\n",
              "1    [everi, movi, come, along, suspect, studio, ev...\n",
              "2    [got, mail, work, alot, better, deserv, order,...\n",
              "3    [jaw, rare, film, grab, attent, show, singl, i...\n",
              "4    [moviemak, lot, like, gener, manag, nfl, team,...\n",
              "Name: review_stemmed, dtype: object"
            ]
          },
          "metadata": {},
          "execution_count": 104
        }
      ]
    },
    {
      "cell_type": "markdown",
      "source": [
        "## **1.6)Lemmatizing Words Using WordNet**\n",
        "\n",
        "\n",
        "**Wordnet:**\n",
        "\n",
        "* WordNet is a lexical database for the English language.\n",
        "* It groups English words into sets of synonyms called synsets, provides short definitions and usage examples, and records a number of relations among these synonym sets or their members.\n",
        "* WordNet can thus be seen as a combination of dictionary and thesaurus. \n",
        "* While it is accessible to human users via a web browser, its primary use is in automatic text analysis and artificial intelligence applications.\n",
        "\n",
        "**Lemmatization:**\n",
        "\n",
        "* Lemmatization is a more effective option than stemming because it converts the word into its root word, rather than just stripping the suffices.\n",
        "* It makes use of the vocabulary and does a morphological analysis to obtain the root word. \n",
        "* Therefore, we usually prefer using lemmatization over stemming.\n",
        "* Example: reduce words such as “am”, “are”, and “is” to a common form such as “be”"
      ],
      "metadata": {
        "id": "nSyU2M0oPfBO"
      }
    },
    {
      "cell_type": "code",
      "source": [
        "# Downloading lexical database for the English language, wordnet\n",
        "nltk.download('wordnet')"
      ],
      "metadata": {
        "colab": {
          "base_uri": "https://localhost:8080/"
        },
        "id": "ObDN2nJePxJc",
        "outputId": "3ed2916b-c8e7-4be2-94a8-ad90f249d39b"
      },
      "execution_count": null,
      "outputs": [
        {
          "output_type": "stream",
          "name": "stderr",
          "text": [
            "[nltk_data] Downloading package wordnet to /root/nltk_data...\n",
            "[nltk_data]   Package wordnet is already up-to-date!\n"
          ]
        },
        {
          "output_type": "execute_result",
          "data": {
            "text/plain": [
              "True"
            ]
          },
          "metadata": {},
          "execution_count": 105
        }
      ]
    },
    {
      "cell_type": "code",
      "source": [
        "#Downloading package open Multilingual Wordnet (OMW)\n",
        "nltk.download('omw-1.4')"
      ],
      "metadata": {
        "colab": {
          "base_uri": "https://localhost:8080/"
        },
        "id": "azM9iIxkPuds",
        "outputId": "08e0d7cf-9e71-418b-f1d4-f891f9ec53f2"
      },
      "execution_count": null,
      "outputs": [
        {
          "output_type": "stream",
          "name": "stderr",
          "text": [
            "[nltk_data] Downloading package omw-1.4 to /root/nltk_data...\n"
          ]
        },
        {
          "output_type": "execute_result",
          "data": {
            "text/plain": [
              "True"
            ]
          },
          "metadata": {},
          "execution_count": 37
        }
      ]
    },
    {
      "cell_type": "code",
      "source": [
        "#Showing the use of Lemmatizer on the word increases\n",
        "lemmatizer = WordNetLemmatizer()\n",
        "print(lemmatizer.lemmatize('increases'))\n"
      ],
      "metadata": {
        "colab": {
          "base_uri": "https://localhost:8080/"
        },
        "id": "c7LqKcgZPqAs",
        "outputId": "03b319db-8923-4fd4-c2de-dd96bd8fc2f2"
      },
      "execution_count": null,
      "outputs": [
        {
          "output_type": "stream",
          "name": "stdout",
          "text": [
            "increase\n"
          ]
        }
      ]
    },
    {
      "cell_type": "markdown",
      "source": [
        "Sometimes, if you try to lemmatize a word like the word playing, it will end up with the same word.\n",
        "This is because the default part of speech is nouns. To get verbs, you should specify the PoS tag as follows:"
      ],
      "metadata": {
        "id": "dHto_4_HQnf4"
      }
    },
    {
      "cell_type": "code",
      "source": [
        "print(lemmatizer.lemmatize('playing'))\n",
        "print(lemmatizer.lemmatize('playing', pos=\"v\"))"
      ],
      "metadata": {
        "colab": {
          "base_uri": "https://localhost:8080/"
        },
        "id": "Fc7j1jw-Pmhi",
        "outputId": "9ebabeae-11b6-4513-bf5d-4d8e484ec8f6"
      },
      "execution_count": null,
      "outputs": [
        {
          "output_type": "stream",
          "name": "stdout",
          "text": [
            "playing\n",
            "play\n"
          ]
        }
      ]
    },
    {
      "cell_type": "markdown",
      "source": [
        "This is a very good level of text compression, you end up with about 50% to 60% compression.\n",
        "The result could be a verb, noun, adjective, or adverb"
      ],
      "metadata": {
        "id": "-W7iiKOyQxbj"
      }
    },
    {
      "cell_type": "code",
      "source": [
        "#Part-of-speech constants: \n",
        "# {ADJ, ADJ_SAT, ADV, NOUN, VERB = 'a', 's', 'r', 'n', 'v'}\n",
        "\n",
        "print(lemmatizer.lemmatize('playing', pos=\"v\")) #verb\n",
        " \n",
        "print(lemmatizer.lemmatize('playing', pos=\"n\")) #noun \n",
        " \n",
        "print(lemmatizer.lemmatize('playing', pos=\"a\")) # adjective\n",
        " \n",
        "print(lemmatizer.lemmatize('playing', pos=\"r\")) # adverb"
      ],
      "metadata": {
        "colab": {
          "base_uri": "https://localhost:8080/"
        },
        "id": "_hCgM0lpQwqR",
        "outputId": "ddb205af-e1d8-4b74-cf28-546d2fb8b64a"
      },
      "execution_count": null,
      "outputs": [
        {
          "output_type": "stream",
          "name": "stdout",
          "text": [
            "play\n",
            "playing\n",
            "playing\n",
            "playing\n"
          ]
        }
      ]
    },
    {
      "cell_type": "code",
      "source": [
        "#Apply lemmatizzer on entire review text\n",
        "positive_features['review_lemmatized'] = positive_features.review_tokenized.apply(lambda x: [lemmatizer.lemmatize(word) for word in x])\n",
        "negative_features['review_lemmatized'] = negative_features.review_tokenized.apply(lambda x: [lemmatizer.lemmatize(word) for word in x])"
      ],
      "metadata": {
        "id": "5HuNvVuVPWu3"
      },
      "execution_count": null,
      "outputs": []
    },
    {
      "cell_type": "code",
      "source": [
        "# Visualize the data before lemmatization\n",
        "positive_features.review_tokenized.head()\n"
      ],
      "metadata": {
        "colab": {
          "base_uri": "https://localhost:8080/"
        },
        "id": "dckLBx1JQ6LP",
        "outputId": "982e5e58-3852-400c-868f-aa42efcb1c42"
      },
      "execution_count": null,
      "outputs": [
        {
          "output_type": "execute_result",
          "data": {
            "text/plain": [
              "0    [films, adapted, comic, books, plenty, success...\n",
              "1    [every, movie, comes, along, suspect, studio, ...\n",
              "2    [got, mail, works, alot, better, deserves, ord...\n",
              "3    [jaws, rare, film, grabs, attention, shows, si...\n",
              "4    [moviemaking, lot, like, general, manager, nfl...\n",
              "Name: review_tokenized, dtype: object"
            ]
          },
          "metadata": {},
          "execution_count": 115
        }
      ]
    },
    {
      "cell_type": "code",
      "source": [
        "# Visualize the data after lemmatization\n",
        "positive_features.review_lemmatized.head()"
      ],
      "metadata": {
        "colab": {
          "base_uri": "https://localhost:8080/"
        },
        "id": "PPvXHskXQ9dT",
        "outputId": "1be590ff-4a8b-4322-f995-fbb3b5d09517"
      },
      "execution_count": null,
      "outputs": [
        {
          "output_type": "execute_result",
          "data": {
            "text/plain": [
              "0    [film, adapted, comic, book, plenty, success, ...\n",
              "1    [every, movie, come, along, suspect, studio, e...\n",
              "2    [got, mail, work, alot, better, deserves, orde...\n",
              "3    [jaw, rare, film, grab, attention, show, singl...\n",
              "4    [moviemaking, lot, like, general, manager, nfl...\n",
              "Name: review_lemmatized, dtype: object"
            ]
          },
          "metadata": {},
          "execution_count": 116
        }
      ]
    },
    {
      "cell_type": "markdown",
      "source": [
        "# **1.7)Stemming and Lemmatization Difference**\n",
        "\n",
        "The goal of both stemming and lemmatization is to reduce inflectional forms.\n",
        "\n",
        "* Stemming\n",
        "  * Stemming is a process that stems or removes last few characters from a word, often leading to incorrect meanings and spelling.\n",
        "  * For instance, stemming the word ‘Caring‘ would return ‘Car‘. \n",
        "\n",
        "\n",
        "* Lemmatization\n",
        "  \n",
        "  * Lemmatization considers the context and converts the word to its meaningful base form, which is called Lemma.\n",
        "  * For instance, lemmatizing the word ‘Caring‘ would return ‘Care‘."
      ],
      "metadata": {
        "id": "opkDUIfLRIC5"
      }
    },
    {
      "cell_type": "code",
      "source": [
        "print('stones:',stemmer.stem('stones'))\n",
        " \n",
        "print('speaking:',stemmer.stem('speaking'))\n",
        " \n",
        "print('bedroom:',stemmer.stem('bedroom'))\n",
        " \n",
        "print('jokes:',stemmer.stem('jokes'))\n",
        " \n",
        "print('lisa:',stemmer.stem('lisa'))\n",
        " \n",
        "print('purple:',stemmer.stem('purple'))\n",
        " \n",
        "print('caring:',stemmer.stem('caring'))\n",
        " \n",
        "print('----------------------')\n",
        " \n",
        "print('stones:',lemmatizer.lemmatize('stones'))\n",
        " \n",
        "print('speaking:',lemmatizer.lemmatize('speaking', pos = 'v'))\n",
        " \n",
        "print('bedroom:',lemmatizer.lemmatize('bedroom'))\n",
        " \n",
        "print('jokes:',lemmatizer.lemmatize('jokes'))\n",
        " \n",
        "print('lisa:',lemmatizer.lemmatize('lisa'))\n",
        " \n",
        "print('purple:',lemmatizer.lemmatize('purple'))\n",
        "\n",
        "print('caring:',lemmatizer.lemmatize('caring'))"
      ],
      "metadata": {
        "colab": {
          "base_uri": "https://localhost:8080/"
        },
        "id": "eiCECmO4RI8i",
        "outputId": "b5e09074-604d-4de5-f7aa-b9c9a14725a7"
      },
      "execution_count": null,
      "outputs": [
        {
          "output_type": "stream",
          "name": "stdout",
          "text": [
            "stones: stone\n",
            "speaking: speak\n",
            "bedroom: bedroom\n",
            "jokes: joke\n",
            "lisa: lisa\n",
            "purple: purpl\n",
            "caring: care\n",
            "----------------------\n",
            "stones: stone\n",
            "speaking: speak\n",
            "bedroom: bedroom\n",
            "jokes: joke\n",
            "lisa: lisa\n",
            "purple: purple\n",
            "caring: caring\n"
          ]
        }
      ]
    },
    {
      "cell_type": "markdown",
      "source": [
        "**Stemming works on words without knowing its context and that’s why stemming has lower accuracy and faster than lemmatization**\n",
        "\n",
        "**Word lemmatizing returns a real word even if it’s not the same word, it could be a synonym, but at least it’s a real word.**\n",
        "\n",
        "When accuracy is not as important as speed, stemming might be better."
      ],
      "metadata": {
        "id": "CppQwMXaRPzx"
      }
    },
    {
      "cell_type": "markdown",
      "source": [
        "# **1.8)Plotting Frequencies of Words**\n",
        "\n",
        "Extract all words in a list:"
      ],
      "metadata": {
        "id": "nOJmRFUNRWY2"
      }
    },
    {
      "cell_type": "code",
      "source": [
        "# Conversion of the dict to list\n",
        "positive_review_list = positive_features['review_lemmatized'].tolist()\n",
        "negative_review_list = negative_features['review_lemmatized'].tolist()"
      ],
      "metadata": {
        "id": "HDsie-_MRbkM"
      },
      "execution_count": null,
      "outputs": []
    },
    {
      "cell_type": "code",
      "source": [
        "# Conversion of the entire dict to a single list\n",
        "positive_review_list = [item for sublist in positive_review_list for item in sublist]\n",
        "negative_review_list = [item for sublist in negative_review_list for item in sublist]"
      ],
      "metadata": {
        "id": "eGF1f1ojRaFn"
      },
      "execution_count": null,
      "outputs": []
    },
    {
      "cell_type": "code",
      "source": [
        "# Check the total Number of positive words\n",
        "print('Number of positive words',len(positive_review_list))"
      ],
      "metadata": {
        "colab": {
          "base_uri": "https://localhost:8080/"
        },
        "id": "oAxP0T3XRQ89",
        "outputId": "13c5a012-a61e-4ee2-a08f-bbc658933b82"
      },
      "execution_count": null,
      "outputs": [
        {
          "output_type": "stream",
          "name": "stdout",
          "text": [
            "Number of positive words 2268979\n"
          ]
        }
      ]
    },
    {
      "cell_type": "code",
      "source": [
        "# Check the total Number of negative words\n",
        "print('Number of negative words',len(negative_review_list))"
      ],
      "metadata": {
        "colab": {
          "base_uri": "https://localhost:8080/"
        },
        "id": "vIJKrqIPQ_lZ",
        "outputId": "a7c05cc0-3126-48fb-8046-0d6af13db4c4"
      },
      "execution_count": null,
      "outputs": [
        {
          "output_type": "stream",
          "name": "stdout",
          "text": [
            "Number of negative words 1992944\n"
          ]
        }
      ]
    },
    {
      "cell_type": "code",
      "source": [
        "# Check the total Number of words\n",
        "all_words = (positive_review_list + negative_review_list)\n",
        "print('Number of total words in corpus',len(all_words))"
      ],
      "metadata": {
        "id": "fyjcqlPzRkkn",
        "colab": {
          "base_uri": "https://localhost:8080/"
        },
        "outputId": "80884150-3978-4171-d6c6-3ccab11004d5"
      },
      "execution_count": null,
      "outputs": [
        {
          "output_type": "stream",
          "name": "stdout",
          "text": [
            "Number of total words in corpus 4261923\n"
          ]
        }
      ]
    },
    {
      "cell_type": "markdown",
      "source": [
        "**Initialize word frequency counter:**"
      ],
      "metadata": {
        "id": "t6lE5imsRtCR"
      }
    },
    {
      "cell_type": "code",
      "source": [
        "word_counter = Counter(all_words)"
      ],
      "metadata": {
        "id": "-N2DhutsRvky"
      },
      "execution_count": null,
      "outputs": []
    },
    {
      "cell_type": "markdown",
      "source": [
        "**Pick top 20 most common words:**"
      ],
      "metadata": {
        "id": "bfdiN1KTSGwL"
      }
    },
    {
      "cell_type": "code",
      "source": [
        "most_common_words = word_counter.most_common()[:20]\n",
        "most_common_words = pd.DataFrame(most_common_words)\n",
        "most_common_words.columns = ['word', 'freq']\n",
        "most_common_words"
      ],
      "metadata": {
        "colab": {
          "base_uri": "https://localhost:8080/",
          "height": 677
        },
        "id": "PRLFsr-ISI9Z",
        "outputId": "82beba11-0f37-4e5e-d876-7d9c0ccee95a"
      },
      "execution_count": null,
      "outputs": [
        {
          "output_type": "execute_result",
          "data": {
            "text/plain": [
              "         word   freq\n",
              "0          's  14031\n",
              "1        film  10963\n",
              "2       movie   6861\n",
              "3         one   5758\n",
              "4   character   3854\n",
              "5        like   3645\n",
              "6        time   2847\n",
              "7         get   2787\n",
              "8       scene   2642\n",
              "9        make   2585\n",
              "10       even   2559\n",
              "11       good   2334\n",
              "12      story   2321\n",
              "13      would   2067\n",
              "14         --   2055\n",
              "15       much   2024\n",
              "16       also   1965\n",
              "17        see   1865\n",
              "18        way   1857\n",
              "19        two   1827"
            ],
            "text/html": [
              "\n",
              "  <div id=\"df-d9221324-fb9b-45dc-9fa0-b67e2efe1a04\">\n",
              "    <div class=\"colab-df-container\">\n",
              "      <div>\n",
              "<style scoped>\n",
              "    .dataframe tbody tr th:only-of-type {\n",
              "        vertical-align: middle;\n",
              "    }\n",
              "\n",
              "    .dataframe tbody tr th {\n",
              "        vertical-align: top;\n",
              "    }\n",
              "\n",
              "    .dataframe thead th {\n",
              "        text-align: right;\n",
              "    }\n",
              "</style>\n",
              "<table border=\"1\" class=\"dataframe\">\n",
              "  <thead>\n",
              "    <tr style=\"text-align: right;\">\n",
              "      <th></th>\n",
              "      <th>word</th>\n",
              "      <th>freq</th>\n",
              "    </tr>\n",
              "  </thead>\n",
              "  <tbody>\n",
              "    <tr>\n",
              "      <th>0</th>\n",
              "      <td>'s</td>\n",
              "      <td>14031</td>\n",
              "    </tr>\n",
              "    <tr>\n",
              "      <th>1</th>\n",
              "      <td>film</td>\n",
              "      <td>10963</td>\n",
              "    </tr>\n",
              "    <tr>\n",
              "      <th>2</th>\n",
              "      <td>movie</td>\n",
              "      <td>6861</td>\n",
              "    </tr>\n",
              "    <tr>\n",
              "      <th>3</th>\n",
              "      <td>one</td>\n",
              "      <td>5758</td>\n",
              "    </tr>\n",
              "    <tr>\n",
              "      <th>4</th>\n",
              "      <td>character</td>\n",
              "      <td>3854</td>\n",
              "    </tr>\n",
              "    <tr>\n",
              "      <th>5</th>\n",
              "      <td>like</td>\n",
              "      <td>3645</td>\n",
              "    </tr>\n",
              "    <tr>\n",
              "      <th>6</th>\n",
              "      <td>time</td>\n",
              "      <td>2847</td>\n",
              "    </tr>\n",
              "    <tr>\n",
              "      <th>7</th>\n",
              "      <td>get</td>\n",
              "      <td>2787</td>\n",
              "    </tr>\n",
              "    <tr>\n",
              "      <th>8</th>\n",
              "      <td>scene</td>\n",
              "      <td>2642</td>\n",
              "    </tr>\n",
              "    <tr>\n",
              "      <th>9</th>\n",
              "      <td>make</td>\n",
              "      <td>2585</td>\n",
              "    </tr>\n",
              "    <tr>\n",
              "      <th>10</th>\n",
              "      <td>even</td>\n",
              "      <td>2559</td>\n",
              "    </tr>\n",
              "    <tr>\n",
              "      <th>11</th>\n",
              "      <td>good</td>\n",
              "      <td>2334</td>\n",
              "    </tr>\n",
              "    <tr>\n",
              "      <th>12</th>\n",
              "      <td>story</td>\n",
              "      <td>2321</td>\n",
              "    </tr>\n",
              "    <tr>\n",
              "      <th>13</th>\n",
              "      <td>would</td>\n",
              "      <td>2067</td>\n",
              "    </tr>\n",
              "    <tr>\n",
              "      <th>14</th>\n",
              "      <td>--</td>\n",
              "      <td>2055</td>\n",
              "    </tr>\n",
              "    <tr>\n",
              "      <th>15</th>\n",
              "      <td>much</td>\n",
              "      <td>2024</td>\n",
              "    </tr>\n",
              "    <tr>\n",
              "      <th>16</th>\n",
              "      <td>also</td>\n",
              "      <td>1965</td>\n",
              "    </tr>\n",
              "    <tr>\n",
              "      <th>17</th>\n",
              "      <td>see</td>\n",
              "      <td>1865</td>\n",
              "    </tr>\n",
              "    <tr>\n",
              "      <th>18</th>\n",
              "      <td>way</td>\n",
              "      <td>1857</td>\n",
              "    </tr>\n",
              "    <tr>\n",
              "      <th>19</th>\n",
              "      <td>two</td>\n",
              "      <td>1827</td>\n",
              "    </tr>\n",
              "  </tbody>\n",
              "</table>\n",
              "</div>\n",
              "      <button class=\"colab-df-convert\" onclick=\"convertToInteractive('df-d9221324-fb9b-45dc-9fa0-b67e2efe1a04')\"\n",
              "              title=\"Convert this dataframe to an interactive table.\"\n",
              "              style=\"display:none;\">\n",
              "        \n",
              "  <svg xmlns=\"http://www.w3.org/2000/svg\" height=\"24px\"viewBox=\"0 0 24 24\"\n",
              "       width=\"24px\">\n",
              "    <path d=\"M0 0h24v24H0V0z\" fill=\"none\"/>\n",
              "    <path d=\"M18.56 5.44l.94 2.06.94-2.06 2.06-.94-2.06-.94-.94-2.06-.94 2.06-2.06.94zm-11 1L8.5 8.5l.94-2.06 2.06-.94-2.06-.94L8.5 2.5l-.94 2.06-2.06.94zm10 10l.94 2.06.94-2.06 2.06-.94-2.06-.94-.94-2.06-.94 2.06-2.06.94z\"/><path d=\"M17.41 7.96l-1.37-1.37c-.4-.4-.92-.59-1.43-.59-.52 0-1.04.2-1.43.59L10.3 9.45l-7.72 7.72c-.78.78-.78 2.05 0 2.83L4 21.41c.39.39.9.59 1.41.59.51 0 1.02-.2 1.41-.59l7.78-7.78 2.81-2.81c.8-.78.8-2.07 0-2.86zM5.41 20L4 18.59l7.72-7.72 1.47 1.35L5.41 20z\"/>\n",
              "  </svg>\n",
              "      </button>\n",
              "      \n",
              "  <style>\n",
              "    .colab-df-container {\n",
              "      display:flex;\n",
              "      flex-wrap:wrap;\n",
              "      gap: 12px;\n",
              "    }\n",
              "\n",
              "    .colab-df-convert {\n",
              "      background-color: #E8F0FE;\n",
              "      border: none;\n",
              "      border-radius: 50%;\n",
              "      cursor: pointer;\n",
              "      display: none;\n",
              "      fill: #1967D2;\n",
              "      height: 32px;\n",
              "      padding: 0 0 0 0;\n",
              "      width: 32px;\n",
              "    }\n",
              "\n",
              "    .colab-df-convert:hover {\n",
              "      background-color: #E2EBFA;\n",
              "      box-shadow: 0px 1px 2px rgba(60, 64, 67, 0.3), 0px 1px 3px 1px rgba(60, 64, 67, 0.15);\n",
              "      fill: #174EA6;\n",
              "    }\n",
              "\n",
              "    [theme=dark] .colab-df-convert {\n",
              "      background-color: #3B4455;\n",
              "      fill: #D2E3FC;\n",
              "    }\n",
              "\n",
              "    [theme=dark] .colab-df-convert:hover {\n",
              "      background-color: #434B5C;\n",
              "      box-shadow: 0px 1px 3px 1px rgba(0, 0, 0, 0.15);\n",
              "      filter: drop-shadow(0px 1px 2px rgba(0, 0, 0, 0.3));\n",
              "      fill: #FFFFFF;\n",
              "    }\n",
              "  </style>\n",
              "\n",
              "      <script>\n",
              "        const buttonEl =\n",
              "          document.querySelector('#df-d9221324-fb9b-45dc-9fa0-b67e2efe1a04 button.colab-df-convert');\n",
              "        buttonEl.style.display =\n",
              "          google.colab.kernel.accessAllowed ? 'block' : 'none';\n",
              "\n",
              "        async function convertToInteractive(key) {\n",
              "          const element = document.querySelector('#df-d9221324-fb9b-45dc-9fa0-b67e2efe1a04');\n",
              "          const dataTable =\n",
              "            await google.colab.kernel.invokeFunction('convertToInteractive',\n",
              "                                                     [key], {});\n",
              "          if (!dataTable) return;\n",
              "\n",
              "          const docLinkHtml = 'Like what you see? Visit the ' +\n",
              "            '<a target=\"_blank\" href=https://colab.research.google.com/notebooks/data_table.ipynb>data table notebook</a>'\n",
              "            + ' to learn more about interactive tables.';\n",
              "          element.innerHTML = '';\n",
              "          dataTable['output_type'] = 'display_data';\n",
              "          await google.colab.output.renderOutput(dataTable, element);\n",
              "          const docLink = document.createElement('div');\n",
              "          docLink.innerHTML = docLinkHtml;\n",
              "          element.appendChild(docLink);\n",
              "        }\n",
              "      </script>\n",
              "    </div>\n",
              "  </div>\n",
              "  "
            ]
          },
          "metadata": {},
          "execution_count": 52
        }
      ]
    },
    {
      "cell_type": "code",
      "source": [
        "most_common_words.sort_values(by='freq',ascending=True).plot(x='word', kind='barh')"
      ],
      "metadata": {
        "colab": {
          "base_uri": "https://localhost:8080/",
          "height": 283
        },
        "id": "Zw-oijNuRoZE",
        "outputId": "02472003-1ed0-46eb-971a-fd359ad18c93"
      },
      "execution_count": null,
      "outputs": [
        {
          "output_type": "execute_result",
          "data": {
            "text/plain": [
              "<matplotlib.axes._subplots.AxesSubplot at 0x7f4450ba14c0>"
            ]
          },
          "metadata": {},
          "execution_count": 53
        },
        {
          "output_type": "display_data",
          "data": {
            "text/plain": [
              "<Figure size 432x288 with 1 Axes>"
            ],
            "image/png": "[encoded data removed]"
          },
          "metadata": {
            "needs_background": "light"
          }
        }
      ]
    },
    {
      "cell_type": "markdown",
      "source": [
        "**Sort the word counts and plot their values on Logarithmic axes to check the shape of the distribution:**\n",
        "\n",
        "This visualization is particularly useful if comparing 2 or more datasets\n",
        "A flatter distribution indicates a large vocabulary while a peaked distribution a restricted vocabulary often due to a focused topic or specialized language."
      ],
      "metadata": {
        "id": "a5tXNpBfST3o"
      }
    },
    {
      "cell_type": "code",
      "source": [
        "sorted_word_counts = sorted(list(word_counter.values()), reverse=True)\n",
        "\n",
        "plt.loglog(sorted_word_counts)\n",
        "plt.ylabel(\"Freq\")\n",
        "plt.xlabel(\"Word Rank\");"
      ],
      "metadata": {
        "colab": {
          "base_uri": "https://localhost:8080/",
          "height": 283
        },
        "id": "oxncoszqSU1m",
        "outputId": "d9208d91-c600-4e92-be31-8b8b164bb042"
      },
      "execution_count": null,
      "outputs": [
        {
          "output_type": "display_data",
          "data": {
            "text/plain": [
              "<Figure size 432x288 with 1 Axes>"
            ],
            "image/png": "[encoded data removed]"
          },
          "metadata": {
            "needs_background": "light"
          }
        }
      ]
    },
    {
      "cell_type": "markdown",
      "source": [
        "**Histogram of sorted_word_counts:**\n",
        "\n",
        "Displays how many words have a count in a specific range.\n",
        "The distribution is highly peaked at low counts, i.e. most of the words appear which a low count, so we better display it on semilogarithmic axes to inspect the tail of the distribution."
      ],
      "metadata": {
        "id": "6PVN1BqaSfxo"
      }
    },
    {
      "cell_type": "code",
      "source": [
        "plt.hist(sorted_word_counts, bins=50);"
      ],
      "metadata": {
        "colab": {
          "base_uri": "https://localhost:8080/",
          "height": 265
        },
        "id": "sjQzn14pShB-",
        "outputId": "fde15a27-af3f-4a1d-8686-6b9962001f67"
      },
      "execution_count": null,
      "outputs": [
        {
          "output_type": "display_data",
          "data": {
            "text/plain": [
              "<Figure size 432x288 with 1 Axes>"
            ],
            "image/png": "[encoded data removed]"
          },
          "metadata": {
            "needs_background": "light"
          }
        }
      ]
    },
    {
      "cell_type": "code",
      "source": [
        "plt.hist(sorted_word_counts, bins=50, log=True);"
      ],
      "metadata": {
        "colab": {
          "base_uri": "https://localhost:8080/",
          "height": 265
        },
        "id": "L4ZalvgRSPGp",
        "outputId": "93bde0bc-eada-4848-c644-2633a093e16f"
      },
      "execution_count": null,
      "outputs": [
        {
          "output_type": "display_data",
          "data": {
            "text/plain": [
              "<Figure size 432x288 with 1 Axes>"
            ],
            "image/png": "[encoded data removed]"
          },
          "metadata": {
            "needs_background": "light"
          }
        }
      ]
    },
    {
      "cell_type": "markdown",
      "source": [
        "**Word length comparison of positive and negative reviews:**"
      ],
      "metadata": {
        "id": "iOaaHAEkSpFh"
      }
    },
    {
      "cell_type": "code",
      "source": [
        "sns.distplot(positive_features['review'].apply(lambda y: len(y)), label='positive reviews',hist=False)\n",
        "sns.distplot(negative_features['review'].apply(lambda y: len(y)), label='negative reviews',hist=False)\n",
        "plt.legend()\n",
        "plt.show()"
      ],
      "metadata": {
        "colab": {
          "base_uri": "https://localhost:8080/",
          "height": 279
        },
        "id": "7sebvPBsSqyD",
        "outputId": "2e758ffe-3b25-4cd3-bbf5-48a6a801f0ba"
      },
      "execution_count": null,
      "outputs": [
        {
          "output_type": "display_data",
          "data": {
            "text/plain": [
              "<Figure size 432x288 with 1 Axes>"
            ],
            "image/png": "[encoded data removed]"
          },
          "metadata": {
            "needs_background": "light"
          }
        }
      ]
    },
    {
      "cell_type": "markdown",
      "source": [
        "# **1.9)Removing frequent unimportant words**"
      ],
      "metadata": {
        "id": "sAT-vjQ9SwLe"
      }
    },
    {
      "cell_type": "code",
      "source": [
        "most_common_words.word.tolist()[:5]"
      ],
      "metadata": {
        "colab": {
          "base_uri": "https://localhost:8080/"
        },
        "id": "i8ytrbIzSxoc",
        "outputId": "a9345d6f-5c3e-4e72-e4c1-aeda3396bfbd"
      },
      "execution_count": null,
      "outputs": [
        {
          "output_type": "execute_result",
          "data": {
            "text/plain": [
              "[\"'s\", 'film', 'movie', 'one', 'character']"
            ]
          },
          "metadata": {},
          "execution_count": 58
        }
      ]
    },
    {
      "cell_type": "code",
      "source": [
        "remove = most_common_words.word.tolist()[:5]\n",
        "remove"
      ],
      "metadata": {
        "colab": {
          "base_uri": "https://localhost:8080/"
        },
        "id": "DdadLcL2SmD0",
        "outputId": "444390e2-c345-467a-8638-6d847fb30595"
      },
      "execution_count": null,
      "outputs": [
        {
          "output_type": "execute_result",
          "data": {
            "text/plain": [
              "[\"'s\", 'film', 'movie', 'one', 'character']"
            ]
          },
          "metadata": {},
          "execution_count": 59
        }
      ]
    },
    {
      "cell_type": "code",
      "source": [
        "negative_features['review_lemmatized'] = negative_features['review_lemmatized'].apply(lambda x: [y for y in x if y not in remove])\n",
        "positive_features['review_lemmatized'] = positive_features['review_lemmatized'].apply(lambda x: [y for y in x if y not in remove])"
      ],
      "metadata": {
        "id": "JWaPoqrIS4MT"
      },
      "execution_count": null,
      "outputs": []
    },
    {
      "cell_type": "code",
      "source": [
        "positive_features.review_lemmatized.head()"
      ],
      "metadata": {
        "colab": {
          "base_uri": "https://localhost:8080/"
        },
        "id": "9T34NfNLS61r",
        "outputId": "330b2c5d-a37e-479f-fba3-56fa8d069655"
      },
      "execution_count": null,
      "outputs": [
        {
          "output_type": "execute_result",
          "data": {
            "text/plain": [
              "0    [adapted, comic, book, plenty, success, whethe...\n",
              "1    [every, come, along, suspect, studio, every, i...\n",
              "2    [got, mail, work, alot, better, deserves, orde...\n",
              "3    [jaw, rare, grab, attention, show, single, ima...\n",
              "4    [moviemaking, lot, like, general, manager, nfl...\n",
              "Name: review_lemmatized, dtype: object"
            ]
          },
          "metadata": {},
          "execution_count": 61
        }
      ]
    },
    {
      "cell_type": "code",
      "source": [
        "negative_features.review_lemmatized.head()"
      ],
      "metadata": {
        "colab": {
          "base_uri": "https://localhost:8080/"
        },
        "id": "VcouCrMjTErr",
        "outputId": "b21b09e7-0605-43d1-baa6-2093fc9a2318"
      },
      "execution_count": null,
      "outputs": [
        {
          "output_type": "execute_result",
          "data": {
            "text/plain": [
              "0    [plot, two, teen, couple, go, church, party, d...\n",
              "1    [happy, bastard, quick, review, damn, y2k, bug...\n",
              "2    [like, make, jaded, viewer, thankful, inventio...\n",
              "3    [quest, camelot, warner, bros, first, feature-...\n",
              "4    [synopsis, mentally, unstable, man, undergoing...\n",
              "Name: review_lemmatized, dtype: object"
            ]
          },
          "metadata": {},
          "execution_count": 62
        }
      ]
    }
  ]
}